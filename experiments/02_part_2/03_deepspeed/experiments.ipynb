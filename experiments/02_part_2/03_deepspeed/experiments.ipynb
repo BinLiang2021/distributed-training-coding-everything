{
 "cells": [
  {
   "cell_type": "code",
   "execution_count": 1,
   "metadata": {},
   "outputs": [
    {
     "data": {
      "application/vnd.jupyter.widget-view+json": {
       "model_id": "58a85dae8d674a3f9602863086c457d6",
       "version_major": 2,
       "version_minor": 0
      },
      "text/plain": [
       "Loading checkpoint shards:   0%|          | 0/4 [00:00<?, ?it/s]"
      ]
     },
     "metadata": {},
     "output_type": "display_data"
    }
   ],
   "source": [
    "\n",
    "import torch\n",
    "import torch.nn as nn\n",
    "from datasets import load_dataset\n",
    "from transformers import AutoModelForCausalLM, AutoTokenizer, Trainer, TrainingArguments\n",
    "\n",
    "\n",
    "model_name = \"meta-llama/LLaMA-3.1-8B\"\n",
    "\n",
    "tokenizer = AutoTokenizer.from_pretrained(model_name)\n",
    "model = AutoModelForCausalLM.from_pretrained(model_name)\n",
    "tokenizer.pad_token = tokenizer.eos_token\n",
    "\n",
    "# 加载训练和评估数据集\n",
    "data_files = {\n",
    "    'train': '/data/home/bin_liang/documents/distributed-training-coding-everything/datasets/ocra/demo_1000.json',\n",
    "    'eval': '/data/home/bin_liang/documents/distributed-training-coding-everything/datasets/ocra/demo_1000_test.json'\n",
    "}\n",
    "\n",
    "dataset = load_dataset('json', data_files=data_files)"
   ]
  },
  {
   "cell_type": "code",
   "execution_count": 12,
   "metadata": {},
   "outputs": [
    {
     "name": "stdout",
     "output_type": "stream",
     "text": [
      "tensor([[128000,  57668,  53901,     11, 106026,  21043]])\n"
     ]
    },
    {
     "name": "stdout",
     "output_type": "stream",
     "text": [
      "tensor([[14924, 53901,  3922, 37046, 21043, 31809]])\n",
      "输入: 你好, 我是\n",
      "输出: Question好，我是小\n"
     ]
    }
   ],
   "source": [
    "# 输入文本\n",
    "input_text = \"你好, 我是\"\n",
    "\n",
    "# 对输入进行编码\n",
    "input_ids = tokenizer.encode(input_text, return_tensors='pt')\n",
    "\n",
    "print(input_ids)\n",
    "\n",
    "# 使用模型生成输出\n",
    "with torch.no_grad():\n",
    "    outputs = model(input_ids)\n",
    "\n",
    "# 获取预测的标记 ID\n",
    "predicted_ids = torch.argmax(outputs.logits, dim=-1)\n",
    "\n",
    "print(predicted_ids)\n",
    "\n",
    "# 对生成的输出进行解码\n",
    "output_text = tokenizer.decode(predicted_ids[0], skip_special_tokens=True)\n",
    "\n",
    "print(\"输入:\", input_text)\n",
    "print(\"输出:\", output_text)"
   ]
  },
  {
   "cell_type": "code",
   "execution_count": 2,
   "metadata": {},
   "outputs": [],
   "source": [
    "def format_messages(messages):\n",
    "    formatted_text = \"\"\n",
    "    for message in messages:\n",
    "        \n",
    "        if message[\"role\"] == \"user\":\n",
    "            formatted_text += f\"[HUMAN]: {message['content']}\\n\"\n",
    "        elif message[\"role\"] == \"assistant\":\n",
    "            formatted_text += f\"[AI]: {message['content']}\\n\"\n",
    "    return formatted_text\n",
    "\n",
    "def preprocess_function(examples):  \n",
    "    # 处理每个样本中的消息列表\n",
    "    contexts = [format_messages(messages) for messages in examples['messages']]\n",
    "    tokenized_inputs = tokenizer(contexts, padding=\"max_length\", truncation=True)\n",
    "    \n",
    "    # 将 BatchEncoding 对象转换为字典\n",
    "    examples.update(tokenized_inputs)\n",
    "    return examples"
   ]
  },
  {
   "cell_type": "code",
   "execution_count": null,
   "metadata": {},
   "outputs": [],
   "source": [
    "type(dataset['train'][0])"
   ]
  },
  {
   "cell_type": "code",
   "execution_count": null,
   "metadata": {},
   "outputs": [],
   "source": [
    "tokenized_dataset = dataset.map(preprocess_function, batched=True)"
   ]
  },
  {
   "cell_type": "code",
   "execution_count": null,
   "metadata": {},
   "outputs": [],
   "source": [
    "tokenized_dataset['train']['input_ids'][:2]"
   ]
  }
 ],
 "metadata": {
  "kernelspec": {
   "display_name": "distributed_training",
   "language": "python",
   "name": "python3"
  },
  "language_info": {
   "codemirror_mode": {
    "name": "ipython",
    "version": 3
   },
   "file_extension": ".py",
   "mimetype": "text/x-python",
   "name": "python",
   "nbconvert_exporter": "python",
   "pygments_lexer": "ipython3",
   "version": "3.12.7"
  }
 },
 "nbformat": 4,
 "nbformat_minor": 2
}
